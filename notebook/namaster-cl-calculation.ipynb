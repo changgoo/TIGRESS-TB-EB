{
 "cells": [
  {
   "cell_type": "code",
   "execution_count": 1,
   "metadata": {},
   "outputs": [],
   "source": [
    "%matplotlib inline"
   ]
  },
  {
   "cell_type": "markdown",
   "metadata": {},
   "source": [
    "Dependency: `healpy`, `pymaster`, `xarray`, `pandas`, `seaborn`"
   ]
  },
  {
   "cell_type": "code",
   "execution_count": 2,
   "metadata": {},
   "outputs": [],
   "source": [
    "import numpy as np\n",
    "import healpy as hp\n",
    "import matplotlib.pyplot as plt\n",
    "import pymaster as nmt\n",
    "import glob,gc,os"
   ]
  },
  {
   "cell_type": "code",
   "execution_count": 3,
   "metadata": {},
   "outputs": [],
   "source": [
    "# The computation of polarized power spectra using the pure-E and B approach\n",
    "def get_field(filename, mask):\n",
    "    f_0 = nmt.NmtField(mask, [hp.read_map(filename, field=0, verbose=False)])\n",
    "    f_2 = nmt.NmtField(mask, hp.read_map(filename, field=[1, 2], verbose=False), purify_e=True, purify_b=True)\n",
    "    return f_0, f_2\n",
    "\n",
    "def get_cl(filename, mask, b, wsp):\n",
    "    f_0, f_2 = get_field(filename, mask)\n",
    "        \n",
    "    # Compute MASTER estimator\n",
    "    # spin-0 x spin-0 = TT\n",
    "    TT, = nmt.compute_full_master(f_0, f_0, b, workspace=wsp[0])\n",
    "    # spin-0 x spin-2 = TE, TB\n",
    "    TE, TB = nmt.compute_full_master(f_0, f_2, b, workspace=wsp[1])\n",
    "    # spin-2 x spin-2 = EE, EB, BE, BB\n",
    "    EE, EB, BE, BB = nmt.compute_full_master(f_2, f_2, b, workspace=wsp[2])\n",
    "    return TT, EE, BB, TE, TB, EB"
   ]
  },
  {
   "cell_type": "code",
   "execution_count": 4,
   "metadata": {},
   "outputs": [],
   "source": [
    "# Information for TIGRESS synthetic maps\n",
    "# dust polarization maps at 353 GHz can be downloaded at https://lambda.gsfc.nasa.gov/simulation/tb_tigress_data.cfm\n",
    "data_folder = '../data/allsky_maps/'\n",
    "\n",
    "# 9 observer positions\n",
    "observers = ['x0y0z0','x-256y0z0','x256y0z0',\n",
    "             'x0y-256z0','x-256y-256z0','x256y-256z0',\n",
    "             'x0y256z0','x-256y256z0','x256y256z0']\n",
    "\n",
    "# 350 snapshots to process\n",
    "itimes=np.arange(300,650,dtype=int)"
   ]
  },
  {
   "cell_type": "code",
   "execution_count": 7,
   "metadata": {},
   "outputs": [
    {
     "name": "stderr",
     "output_type": "stream",
     "text": [
      "/Users/ckim/miniconda3/lib/python3.7/site-packages/healpy/fitsfunc.py:352: UserWarning: If you are not specifying the input dtype and using the default np.float64 dtype of read_map(), please consider that it will change in a future version to None as to keep the same dtype of the input file: please explicitly set the dtype if it is important to you.\n",
      "  \"If you are not specifying the input dtype and using the default \"\n",
      "/Users/ckim/miniconda3/lib/python3.7/site-packages/healpy/fitsfunc.py:352: UserWarning: If you are not specifying the input dtype and using the default np.float64 dtype of read_map(), please consider that it will change in a future version to None as to keep the same dtype of the input file: please explicitly set the dtype if it is important to you.\n",
      "  \"If you are not specifying the input dtype and using the default \"\n"
     ]
    }
   ],
   "source": [
    "# Setup mask\n",
    "\n",
    "# HEALPix map resolution\n",
    "nside = 128\n",
    "\n",
    "# Let us first create a mask:\n",
    "msk = np.ones(hp.nside2npix(nside))\n",
    "th, ph = hp.pix2ang(nside, np.arange(hp.nside2npix(nside)))\n",
    "# for |b| > 30deg\n",
    "# msk[np.where((th > np.pi/3) & (th < 2*np.pi/3))[0]] = 0.\n",
    "# for |b| > 60deg\n",
    "msk[np.where((th > np.pi/6) & (th < 5*np.pi/6))[0]] = 0.\n",
    "\n",
    "# Now we apodize the mask. The pure-B formalism requires the mask to be\n",
    "# differentiable along the edges. The 'C1' and 'C2' apodization types\n",
    "# supported by mask_apodization achieve this.\n",
    "msk_apo = nmt.mask_apodization(msk, 10.0, apotype='C1')\n",
    "\n",
    "# Select a binning scheme\n",
    "# We use the same binning window size used in Kim et al. 2019\n",
    "b = nmt.NmtBin.from_nside_linear(nside, 10)\n",
    "leff = b.get_effective_ells()\n",
    "\n",
    "# Workspace initialization for the same mask\n",
    "filename=glob.glob('{}*.fits'.format(data_folder))[0]\n",
    "f0, f2 = get_field(filename,msk_apo)\n",
    "wsp_00 = nmt.NmtWorkspace()\n",
    "wsp_00.compute_coupling_matrix(f0, f0, b)\n",
    "wsp_02 = nmt.NmtWorkspace()\n",
    "wsp_02.compute_coupling_matrix(f0, f2, b)\n",
    "wsp_22 = nmt.NmtWorkspace()\n",
    "wsp_22.compute_coupling_matrix(f2, f2, b)\n",
    "wsp = [wsp_00,wsp_02,wsp_22]"
   ]
  },
  {
   "cell_type": "code",
   "execution_count": 8,
   "metadata": {},
   "outputs": [
    {
     "data": {
      "image/png": "[encoded data removed]",
      "text/plain": [
       "<Figure size 612x388.8 with 2 Axes>"
      ]
     },
     "metadata": {
      "needs_background": "light"
     },
     "output_type": "display_data"
    }
   ],
   "source": [
    "hp.mollview(msk_apo)"
   ]
  },
  {
   "cell_type": "code",
   "execution_count": 9,
   "metadata": {
    "scrolled": true
   },
   "outputs": [],
   "source": [
    "# pandas and xarray are used to store data\n",
    "import pandas as pd\n",
    "import xarray as xr\n",
    "\n",
    "# Calculate Cl and store into files\n",
    "override = False\n",
    "for j,obs in enumerate(observers):\n",
    "    fout = '../data/{}.b60.cls.nc'.format(obs)\n",
    "    if (not os.path.isfile(fout)) or override:\n",
    "        print(obs)\n",
    "        cl_time = []\n",
    "        for i in itimes:\n",
    "            if (i%10 ==0): print(i)\n",
    "            filename='{}MHD_4pc_new.{:04d}.Nside128-{}.fits'.format(data_folder,i,obs)\n",
    "            cls = get_cl(filename,msk_apo,b,wsp)\n",
    "            df = pd.DataFrame(np.array(cls).T,index=leff,columns=['TT','EE','BB','TE','TB','EB'])\n",
    "            da = df.to_xarray().rename(index='leff').assign_coords(time=i)\n",
    "            cl_time.append(da)\n",
    "        dset=xr.concat(cl_time,dim='time').assign_coords(observer=j)\n",
    "        dset.to_netcdf(fout)\n",
    "        dset.close()"
   ]
  },
  {
   "cell_type": "code",
   "execution_count": 10,
   "metadata": {},
   "outputs": [],
   "source": [
    "# save a concanated data into a single file\n",
    "dlist = []\n",
    "for obs in observers:\n",
    "    fout = '../data/{}.b60.cls.nc'.format(obs)\n",
    "    if os.path.isfile(fout):\n",
    "        with xr.open_dataset(fout) as dset:\n",
    "            dlist.append(dset)\n",
    "\n",
    "dset = xr.concat(dlist,dim='observer')\n",
    "dset.to_netcdf('../data/all_cls.b60.nc')\n",
    "dset.close()"
   ]
  }
 ],
 "metadata": {
  "kernelspec": {
   "display_name": "Python 3",
   "language": "python",
   "name": "python3"
  },
  "language_info": {
   "codemirror_mode": {
    "name": "ipython",
    "version": 3
   },
   "file_extension": ".py",
   "mimetype": "text/x-python",
   "name": "python",
   "nbconvert_exporter": "python",
   "pygments_lexer": "ipython3",
   "version": "3.7.3"
  }
 },
 "nbformat": 4,
 "nbformat_minor": 4
}
